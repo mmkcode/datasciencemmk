{
    "nbformat_minor": 2, 
    "cells": [
        {
            "source": "# Capstone project Segmenting and Clustering Neighborhoods in Toronto 1st part", 
            "cell_type": "markdown", 
            "metadata": {}
        }, 
        {
            "execution_count": 1, 
            "cell_type": "code", 
            "metadata": {}, 
            "outputs": [], 
            "source": "import pandas as pd\nimport numpy as np\nimport requests\nfrom bs4 import BeautifulSoup\nimport csv"
        }, 
        {
            "execution_count": 2, 
            "cell_type": "code", 
            "metadata": {}, 
            "outputs": [], 
            "source": "source = requests.get('https://en.wikipedia.org/wiki/List_of_postal_codes_of_Canada:_M').text\nsoup = BeautifulSoup(source, 'lxml')\n#print(soup.prettify())"
        }, 
        {
            "execution_count": 3, 
            "cell_type": "code", 
            "metadata": {}, 
            "outputs": [], 
            "source": "ttable = soup.find('table',{'class':'wikitable sortable'})\n#print(ttable.prettify())"
        }, 
        {
            "execution_count": 4, 
            "cell_type": "code", 
            "metadata": {}, 
            "outputs": [], 
            "source": "rtab = ttable.findAll('tr')\n\nres = []\nfor tr in rtab:\n    td = tr.findAll('td')\n    row = [tr.text.strip() for tr in td if tr.text.strip()]\n    if row:\n        res.append(row)\n        \ndf_rdata = pd.DataFrame(res, columns=[\"PostalCode\", \"Borough\", \"Neighborhood\"])"
        }, 
        {
            "execution_count": 5, 
            "cell_type": "code", 
            "metadata": {}, 
            "outputs": [
                {
                    "execution_count": 5, 
                    "metadata": {}, 
                    "data": {
                        "text/html": "<div>\n<style scoped>\n    .dataframe tbody tr th:only-of-type {\n        vertical-align: middle;\n    }\n\n    .dataframe tbody tr th {\n        vertical-align: top;\n    }\n\n    .dataframe thead th {\n        text-align: right;\n    }\n</style>\n<table border=\"1\" class=\"dataframe\">\n  <thead>\n    <tr style=\"text-align: right;\">\n      <th></th>\n      <th>PostalCode</th>\n      <th>Borough</th>\n      <th>Neighborhood</th>\n    </tr>\n  </thead>\n  <tbody>\n    <tr>\n      <th>0</th>\n      <td>M1A</td>\n      <td>Not assigned</td>\n      <td>Not assigned</td>\n    </tr>\n    <tr>\n      <th>1</th>\n      <td>M2A</td>\n      <td>Not assigned</td>\n      <td>Not assigned</td>\n    </tr>\n    <tr>\n      <th>2</th>\n      <td>M3A</td>\n      <td>North York</td>\n      <td>Parkwoods</td>\n    </tr>\n    <tr>\n      <th>3</th>\n      <td>M4A</td>\n      <td>North York</td>\n      <td>Victoria Village</td>\n    </tr>\n    <tr>\n      <th>4</th>\n      <td>M5A</td>\n      <td>Downtown Toronto</td>\n      <td>Harbourfront</td>\n    </tr>\n  </tbody>\n</table>\n</div>", 
                        "text/plain": "  PostalCode           Borough      Neighborhood\n0        M1A      Not assigned      Not assigned\n1        M2A      Not assigned      Not assigned\n2        M3A        North York         Parkwoods\n3        M4A        North York  Victoria Village\n4        M5A  Downtown Toronto      Harbourfront"
                    }, 
                    "output_type": "execute_result"
                }
            ], 
            "source": "df_rdata.head()"
        }, 
        {
            "execution_count": 6, 
            "cell_type": "code", 
            "metadata": {}, 
            "outputs": [], 
            "source": "cdf = df_rdata[df_rdata.Borough != 'Not assigned']"
        }, 
        {
            "execution_count": 7, 
            "cell_type": "code", 
            "metadata": {}, 
            "outputs": [], 
            "source": "cdf.to_csv('cdf.csv', index=False)"
        }, 
        {
            "execution_count": 8, 
            "cell_type": "code", 
            "metadata": {}, 
            "outputs": [], 
            "source": "cdf_data = pd.read_csv('cdf.csv')"
        }, 
        {
            "execution_count": 9, 
            "cell_type": "code", 
            "metadata": {}, 
            "outputs": [
                {
                    "execution_count": 9, 
                    "metadata": {}, 
                    "data": {
                        "text/html": "<div>\n<style scoped>\n    .dataframe tbody tr th:only-of-type {\n        vertical-align: middle;\n    }\n\n    .dataframe tbody tr th {\n        vertical-align: top;\n    }\n\n    .dataframe thead th {\n        text-align: right;\n    }\n</style>\n<table border=\"1\" class=\"dataframe\">\n  <thead>\n    <tr style=\"text-align: right;\">\n      <th></th>\n      <th>PostalCode</th>\n      <th>Borough</th>\n      <th>Neighborhood</th>\n    </tr>\n  </thead>\n  <tbody>\n    <tr>\n      <th>0</th>\n      <td>M3A</td>\n      <td>North York</td>\n      <td>Parkwoods</td>\n    </tr>\n    <tr>\n      <th>1</th>\n      <td>M4A</td>\n      <td>North York</td>\n      <td>Victoria Village</td>\n    </tr>\n    <tr>\n      <th>2</th>\n      <td>M5A</td>\n      <td>Downtown Toronto</td>\n      <td>Harbourfront</td>\n    </tr>\n    <tr>\n      <th>3</th>\n      <td>M5A</td>\n      <td>Downtown Toronto</td>\n      <td>Regent Park</td>\n    </tr>\n    <tr>\n      <th>4</th>\n      <td>M6A</td>\n      <td>North York</td>\n      <td>Lawrence Heights</td>\n    </tr>\n    <tr>\n      <th>5</th>\n      <td>M6A</td>\n      <td>North York</td>\n      <td>Lawrence Manor</td>\n    </tr>\n    <tr>\n      <th>6</th>\n      <td>M7A</td>\n      <td>Queen's Park</td>\n      <td>Not assigned</td>\n    </tr>\n    <tr>\n      <th>7</th>\n      <td>M9A</td>\n      <td>Etobicoke</td>\n      <td>Islington Avenue</td>\n    </tr>\n    <tr>\n      <th>8</th>\n      <td>M1B</td>\n      <td>Scarborough</td>\n      <td>Rouge</td>\n    </tr>\n    <tr>\n      <th>9</th>\n      <td>M1B</td>\n      <td>Scarborough</td>\n      <td>Malvern</td>\n    </tr>\n    <tr>\n      <th>10</th>\n      <td>M3B</td>\n      <td>North York</td>\n      <td>Don Mills North</td>\n    </tr>\n  </tbody>\n</table>\n</div>", 
                        "text/plain": "   PostalCode           Borough      Neighborhood\n0         M3A        North York         Parkwoods\n1         M4A        North York  Victoria Village\n2         M5A  Downtown Toronto      Harbourfront\n3         M5A  Downtown Toronto       Regent Park\n4         M6A        North York  Lawrence Heights\n5         M6A        North York    Lawrence Manor\n6         M7A      Queen's Park      Not assigned\n7         M9A         Etobicoke  Islington Avenue\n8         M1B       Scarborough             Rouge\n9         M1B       Scarborough           Malvern\n10        M3B        North York   Don Mills North"
                    }, 
                    "output_type": "execute_result"
                }
            ], 
            "source": "cdf_data.head(11)"
        }, 
        {
            "execution_count": 10, 
            "cell_type": "code", 
            "metadata": {}, 
            "outputs": [], 
            "source": "cdf_data['Neighborhood'].replace({'Not assigned':\"Queen's Park\"}, inplace=True)"
        }, 
        {
            "execution_count": 11, 
            "cell_type": "code", 
            "metadata": {}, 
            "outputs": [
                {
                    "execution_count": 11, 
                    "metadata": {}, 
                    "data": {
                        "text/html": "<div>\n<style scoped>\n    .dataframe tbody tr th:only-of-type {\n        vertical-align: middle;\n    }\n\n    .dataframe tbody tr th {\n        vertical-align: top;\n    }\n\n    .dataframe thead th {\n        text-align: right;\n    }\n</style>\n<table border=\"1\" class=\"dataframe\">\n  <thead>\n    <tr style=\"text-align: right;\">\n      <th></th>\n      <th>PostalCode</th>\n      <th>Borough</th>\n      <th>Neighborhood</th>\n    </tr>\n  </thead>\n  <tbody>\n    <tr>\n      <th>0</th>\n      <td>M3A</td>\n      <td>North York</td>\n      <td>Parkwoods</td>\n    </tr>\n    <tr>\n      <th>1</th>\n      <td>M4A</td>\n      <td>North York</td>\n      <td>Victoria Village</td>\n    </tr>\n    <tr>\n      <th>2</th>\n      <td>M5A</td>\n      <td>Downtown Toronto</td>\n      <td>Harbourfront</td>\n    </tr>\n    <tr>\n      <th>3</th>\n      <td>M5A</td>\n      <td>Downtown Toronto</td>\n      <td>Regent Park</td>\n    </tr>\n    <tr>\n      <th>4</th>\n      <td>M6A</td>\n      <td>North York</td>\n      <td>Lawrence Heights</td>\n    </tr>\n    <tr>\n      <th>5</th>\n      <td>M6A</td>\n      <td>North York</td>\n      <td>Lawrence Manor</td>\n    </tr>\n    <tr>\n      <th>6</th>\n      <td>M7A</td>\n      <td>Queen's Park</td>\n      <td>Queen's Park</td>\n    </tr>\n    <tr>\n      <th>7</th>\n      <td>M9A</td>\n      <td>Etobicoke</td>\n      <td>Islington Avenue</td>\n    </tr>\n    <tr>\n      <th>8</th>\n      <td>M1B</td>\n      <td>Scarborough</td>\n      <td>Rouge</td>\n    </tr>\n    <tr>\n      <th>9</th>\n      <td>M1B</td>\n      <td>Scarborough</td>\n      <td>Malvern</td>\n    </tr>\n    <tr>\n      <th>10</th>\n      <td>M3B</td>\n      <td>North York</td>\n      <td>Don Mills North</td>\n    </tr>\n  </tbody>\n</table>\n</div>", 
                        "text/plain": "   PostalCode           Borough      Neighborhood\n0         M3A        North York         Parkwoods\n1         M4A        North York  Victoria Village\n2         M5A  Downtown Toronto      Harbourfront\n3         M5A  Downtown Toronto       Regent Park\n4         M6A        North York  Lawrence Heights\n5         M6A        North York    Lawrence Manor\n6         M7A      Queen's Park      Queen's Park\n7         M9A         Etobicoke  Islington Avenue\n8         M1B       Scarborough             Rouge\n9         M1B       Scarborough           Malvern\n10        M3B        North York   Don Mills North"
                    }, 
                    "output_type": "execute_result"
                }
            ], 
            "source": "cdf_data.head(11)"
        }, 
        {
            "execution_count": 12, 
            "cell_type": "code", 
            "metadata": {}, 
            "outputs": [], 
            "source": "cdf_data.to_csv('cdata.csv', index=False)"
        }, 
        {
            "execution_count": 13, 
            "cell_type": "code", 
            "metadata": {}, 
            "outputs": [], 
            "source": "df_cdata = pd.read_csv('cdata.csv')"
        }, 
        {
            "execution_count": 14, 
            "cell_type": "code", 
            "metadata": {}, 
            "outputs": [], 
            "source": "dfb= df_cdata.groupby(['PostalCode','Borough'])['Neighborhood']\ndfb.apply(', '.join).reset_index()[['PostalCode','Borough','Neighborhood']].to_csv('dfb.csv', index=False)"
        }, 
        {
            "execution_count": 15, 
            "cell_type": "code", 
            "metadata": {}, 
            "outputs": [
                {
                    "execution_count": 15, 
                    "metadata": {}, 
                    "data": {
                        "text/html": "<div>\n<style scoped>\n    .dataframe tbody tr th:only-of-type {\n        vertical-align: middle;\n    }\n\n    .dataframe tbody tr th {\n        vertical-align: top;\n    }\n\n    .dataframe thead th {\n        text-align: right;\n    }\n</style>\n<table border=\"1\" class=\"dataframe\">\n  <thead>\n    <tr style=\"text-align: right;\">\n      <th></th>\n      <th>PostalCode</th>\n      <th>Borough</th>\n      <th>Neighborhood</th>\n    </tr>\n  </thead>\n  <tbody>\n    <tr>\n      <th>0</th>\n      <td>M1B</td>\n      <td>Scarborough</td>\n      <td>Rouge, Malvern</td>\n    </tr>\n    <tr>\n      <th>1</th>\n      <td>M1C</td>\n      <td>Scarborough</td>\n      <td>Highland Creek, Rouge Hill, Port Union</td>\n    </tr>\n    <tr>\n      <th>2</th>\n      <td>M1E</td>\n      <td>Scarborough</td>\n      <td>Guildwood, Morningside, West Hill</td>\n    </tr>\n    <tr>\n      <th>3</th>\n      <td>M1G</td>\n      <td>Scarborough</td>\n      <td>Woburn</td>\n    </tr>\n    <tr>\n      <th>4</th>\n      <td>M1H</td>\n      <td>Scarborough</td>\n      <td>Cedarbrae</td>\n    </tr>\n  </tbody>\n</table>\n</div>", 
                        "text/plain": "  PostalCode      Borough                            Neighborhood\n0        M1B  Scarborough                          Rouge, Malvern\n1        M1C  Scarborough  Highland Creek, Rouge Hill, Port Union\n2        M1E  Scarborough       Guildwood, Morningside, West Hill\n3        M1G  Scarborough                                  Woburn\n4        M1H  Scarborough                               Cedarbrae"
                    }, 
                    "output_type": "execute_result"
                }
            ], 
            "source": "dfb_data = pd.read_csv('dfb.csv')\ndfb_data.head()"
        }, 
        {
            "execution_count": 16, 
            "cell_type": "code", 
            "metadata": {}, 
            "outputs": [
                {
                    "execution_count": 16, 
                    "metadata": {}, 
                    "data": {
                        "text/html": "<div>\n<style scoped>\n    .dataframe tbody tr th:only-of-type {\n        vertical-align: middle;\n    }\n\n    .dataframe tbody tr th {\n        vertical-align: top;\n    }\n\n    .dataframe thead th {\n        text-align: right;\n    }\n</style>\n<table border=\"1\" class=\"dataframe\">\n  <thead>\n    <tr style=\"text-align: right;\">\n      <th></th>\n      <th>Postal Code</th>\n      <th>Latitude</th>\n      <th>Longitude</th>\n    </tr>\n  </thead>\n  <tbody>\n    <tr>\n      <th>0</th>\n      <td>M1B</td>\n      <td>43.806686</td>\n      <td>-79.194353</td>\n    </tr>\n    <tr>\n      <th>1</th>\n      <td>M1C</td>\n      <td>43.784535</td>\n      <td>-79.160497</td>\n    </tr>\n    <tr>\n      <th>2</th>\n      <td>M1E</td>\n      <td>43.763573</td>\n      <td>-79.188711</td>\n    </tr>\n    <tr>\n      <th>3</th>\n      <td>M1G</td>\n      <td>43.770992</td>\n      <td>-79.216917</td>\n    </tr>\n    <tr>\n      <th>4</th>\n      <td>M1H</td>\n      <td>43.773136</td>\n      <td>-79.239476</td>\n    </tr>\n  </tbody>\n</table>\n</div>", 
                        "text/plain": "  Postal Code   Latitude  Longitude\n0         M1B  43.806686 -79.194353\n1         M1C  43.784535 -79.160497\n2         M1E  43.763573 -79.188711\n3         M1G  43.770992 -79.216917\n4         M1H  43.773136 -79.239476"
                    }, 
                    "output_type": "execute_result"
                }
            ], 
            "source": "geo = 'https://cocl.us/Geospatial_data'\ndfgeo = pd.read_csv(geo)\ndfgeo.head()"
        }, 
        {
            "execution_count": 17, 
            "cell_type": "code", 
            "metadata": {}, 
            "outputs": [
                {
                    "execution_count": 17, 
                    "metadata": {}, 
                    "data": {
                        "text/html": "<div>\n<style scoped>\n    .dataframe tbody tr th:only-of-type {\n        vertical-align: middle;\n    }\n\n    .dataframe tbody tr th {\n        vertical-align: top;\n    }\n\n    .dataframe thead th {\n        text-align: right;\n    }\n</style>\n<table border=\"1\" class=\"dataframe\">\n  <thead>\n    <tr style=\"text-align: right;\">\n      <th></th>\n      <th>PostalCode</th>\n      <th>Latitude</th>\n      <th>Longitude</th>\n    </tr>\n  </thead>\n  <tbody>\n    <tr>\n      <th>0</th>\n      <td>M1B</td>\n      <td>43.806686</td>\n      <td>-79.194353</td>\n    </tr>\n    <tr>\n      <th>1</th>\n      <td>M1C</td>\n      <td>43.784535</td>\n      <td>-79.160497</td>\n    </tr>\n    <tr>\n      <th>2</th>\n      <td>M1E</td>\n      <td>43.763573</td>\n      <td>-79.188711</td>\n    </tr>\n    <tr>\n      <th>3</th>\n      <td>M1G</td>\n      <td>43.770992</td>\n      <td>-79.216917</td>\n    </tr>\n    <tr>\n      <th>4</th>\n      <td>M1H</td>\n      <td>43.773136</td>\n      <td>-79.239476</td>\n    </tr>\n  </tbody>\n</table>\n</div>", 
                        "text/plain": "  PostalCode   Latitude  Longitude\n0        M1B  43.806686 -79.194353\n1        M1C  43.784535 -79.160497\n2        M1E  43.763573 -79.188711\n3        M1G  43.770992 -79.216917\n4        M1H  43.773136 -79.239476"
                    }, 
                    "output_type": "execute_result"
                }
            ], 
            "source": "dfgeo.rename(columns=({'Postal Code':'PostalCode'}), inplace=True)\ndfgeo.head()"
        }, 
        {
            "execution_count": 18, 
            "cell_type": "code", 
            "metadata": {}, 
            "outputs": [
                {
                    "execution_count": 18, 
                    "metadata": {}, 
                    "data": {
                        "text/html": "<div>\n<style scoped>\n    .dataframe tbody tr th:only-of-type {\n        vertical-align: middle;\n    }\n\n    .dataframe tbody tr th {\n        vertical-align: top;\n    }\n\n    .dataframe thead th {\n        text-align: right;\n    }\n</style>\n<table border=\"1\" class=\"dataframe\">\n  <thead>\n    <tr style=\"text-align: right;\">\n      <th></th>\n      <th>PostalCode</th>\n      <th>Borough</th>\n      <th>Neighborhood</th>\n      <th>Latitude</th>\n      <th>Longitude</th>\n    </tr>\n  </thead>\n  <tbody>\n    <tr>\n      <th>0</th>\n      <td>M1B</td>\n      <td>Scarborough</td>\n      <td>Rouge, Malvern</td>\n      <td>43.806686</td>\n      <td>-79.194353</td>\n    </tr>\n    <tr>\n      <th>1</th>\n      <td>M1C</td>\n      <td>Scarborough</td>\n      <td>Highland Creek, Rouge Hill, Port Union</td>\n      <td>43.784535</td>\n      <td>-79.160497</td>\n    </tr>\n    <tr>\n      <th>2</th>\n      <td>M1E</td>\n      <td>Scarborough</td>\n      <td>Guildwood, Morningside, West Hill</td>\n      <td>43.763573</td>\n      <td>-79.188711</td>\n    </tr>\n    <tr>\n      <th>3</th>\n      <td>M1G</td>\n      <td>Scarborough</td>\n      <td>Woburn</td>\n      <td>43.770992</td>\n      <td>-79.216917</td>\n    </tr>\n    <tr>\n      <th>4</th>\n      <td>M1H</td>\n      <td>Scarborough</td>\n      <td>Cedarbrae</td>\n      <td>43.773136</td>\n      <td>-79.239476</td>\n    </tr>\n  </tbody>\n</table>\n</div>", 
                        "text/plain": "  PostalCode      Borough                            Neighborhood   Latitude  \\\n0        M1B  Scarborough                          Rouge, Malvern  43.806686   \n1        M1C  Scarborough  Highland Creek, Rouge Hill, Port Union  43.784535   \n2        M1E  Scarborough       Guildwood, Morningside, West Hill  43.763573   \n3        M1G  Scarborough                                  Woburn  43.770992   \n4        M1H  Scarborough                               Cedarbrae  43.773136   \n\n   Longitude  \n0 -79.194353  \n1 -79.160497  \n2 -79.188711  \n3 -79.216917  \n4 -79.239476  "
                    }, 
                    "output_type": "execute_result"
                }
            ], 
            "source": "dftor_data = pd.merge(dfb_data,\n                     dfgeo[['PostalCode','Latitude','Longitude']],\n                      on='PostalCode')\ndftor_data.head()"
        }, 
        {
            "execution_count": 19, 
            "cell_type": "code", 
            "metadata": {}, 
            "outputs": [], 
            "source": "dftor_data.to_csv('cdftor.csv', index=False)"
        }, 
        {
            "execution_count": 20, 
            "cell_type": "code", 
            "metadata": {}, 
            "outputs": [
                {
                    "execution_count": 20, 
                    "metadata": {}, 
                    "data": {
                        "text/html": "<div>\n<style scoped>\n    .dataframe tbody tr th:only-of-type {\n        vertical-align: middle;\n    }\n\n    .dataframe tbody tr th {\n        vertical-align: top;\n    }\n\n    .dataframe thead th {\n        text-align: right;\n    }\n</style>\n<table border=\"1\" class=\"dataframe\">\n  <thead>\n    <tr style=\"text-align: right;\">\n      <th></th>\n      <th>PostalCode</th>\n      <th>Borough</th>\n      <th>Neighborhood</th>\n      <th>Latitude</th>\n      <th>Longitude</th>\n    </tr>\n  </thead>\n  <tbody>\n    <tr>\n      <th>0</th>\n      <td>M1B</td>\n      <td>Scarborough</td>\n      <td>Rouge, Malvern</td>\n      <td>43.806686</td>\n      <td>-79.194353</td>\n    </tr>\n    <tr>\n      <th>1</th>\n      <td>M1C</td>\n      <td>Scarborough</td>\n      <td>Highland Creek, Rouge Hill, Port Union</td>\n      <td>43.784535</td>\n      <td>-79.160497</td>\n    </tr>\n    <tr>\n      <th>2</th>\n      <td>M1E</td>\n      <td>Scarborough</td>\n      <td>Guildwood, Morningside, West Hill</td>\n      <td>43.763573</td>\n      <td>-79.188711</td>\n    </tr>\n    <tr>\n      <th>3</th>\n      <td>M1G</td>\n      <td>Scarborough</td>\n      <td>Woburn</td>\n      <td>43.770992</td>\n      <td>-79.216917</td>\n    </tr>\n    <tr>\n      <th>4</th>\n      <td>M1H</td>\n      <td>Scarborough</td>\n      <td>Cedarbrae</td>\n      <td>43.773136</td>\n      <td>-79.239476</td>\n    </tr>\n  </tbody>\n</table>\n</div>", 
                        "text/plain": "  PostalCode      Borough                            Neighborhood   Latitude  \\\n0        M1B  Scarborough                          Rouge, Malvern  43.806686   \n1        M1C  Scarborough  Highland Creek, Rouge Hill, Port Union  43.784535   \n2        M1E  Scarborough       Guildwood, Morningside, West Hill  43.763573   \n3        M1G  Scarborough                                  Woburn  43.770992   \n4        M1H  Scarborough                               Cedarbrae  43.773136   \n\n   Longitude  \n0 -79.194353  \n1 -79.160497  \n2 -79.188711  \n3 -79.216917  \n4 -79.239476  "
                    }, 
                    "output_type": "execute_result"
                }
            ], 
            "source": "cdftor_data = pd.read_csv('cdftor.csv')\ncdftor_data.head()"
        }, 
        {
            "execution_count": 21, 
            "cell_type": "code", 
            "metadata": {}, 
            "outputs": [
                {
                    "execution_count": 21, 
                    "metadata": {}, 
                    "data": {
                        "text/plain": "(103, 5)"
                    }, 
                    "output_type": "execute_result"
                }
            ], 
            "source": "cdftor_data.shape"
        }, 
        {
            "execution_count": 22, 
            "cell_type": "code", 
            "metadata": {}, 
            "outputs": [
                {
                    "execution_count": 22, 
                    "metadata": {}, 
                    "data": {
                        "text/html": "<div>\n<style scoped>\n    .dataframe tbody tr th:only-of-type {\n        vertical-align: middle;\n    }\n\n    .dataframe tbody tr th {\n        vertical-align: top;\n    }\n\n    .dataframe thead th {\n        text-align: right;\n    }\n</style>\n<table border=\"1\" class=\"dataframe\">\n  <thead>\n    <tr style=\"text-align: right;\">\n      <th></th>\n      <th>PostalCode</th>\n      <th>Borough</th>\n      <th>Neighborhood</th>\n      <th>Latitude</th>\n      <th>Longitude</th>\n    </tr>\n  </thead>\n  <tbody>\n    <tr>\n      <th>0</th>\n      <td>M4E</td>\n      <td>East Toronto</td>\n      <td>The Beaches</td>\n      <td>43.676357</td>\n      <td>-79.293031</td>\n    </tr>\n    <tr>\n      <th>1</th>\n      <td>M4K</td>\n      <td>East Toronto</td>\n      <td>The Danforth West, Riverdale</td>\n      <td>43.679557</td>\n      <td>-79.352188</td>\n    </tr>\n    <tr>\n      <th>2</th>\n      <td>M4L</td>\n      <td>East Toronto</td>\n      <td>The Beaches West, India Bazaar</td>\n      <td>43.668999</td>\n      <td>-79.315572</td>\n    </tr>\n    <tr>\n      <th>3</th>\n      <td>M4M</td>\n      <td>East Toronto</td>\n      <td>Studio District</td>\n      <td>43.659526</td>\n      <td>-79.340923</td>\n    </tr>\n    <tr>\n      <th>4</th>\n      <td>M4N</td>\n      <td>Central Toronto</td>\n      <td>Lawrence Park</td>\n      <td>43.728020</td>\n      <td>-79.388790</td>\n    </tr>\n    <tr>\n      <th>5</th>\n      <td>M4P</td>\n      <td>Central Toronto</td>\n      <td>Davisville North</td>\n      <td>43.712751</td>\n      <td>-79.390197</td>\n    </tr>\n    <tr>\n      <th>6</th>\n      <td>M4R</td>\n      <td>Central Toronto</td>\n      <td>North Toronto West</td>\n      <td>43.715383</td>\n      <td>-79.405678</td>\n    </tr>\n    <tr>\n      <th>7</th>\n      <td>M4S</td>\n      <td>Central Toronto</td>\n      <td>Davisville</td>\n      <td>43.704324</td>\n      <td>-79.388790</td>\n    </tr>\n    <tr>\n      <th>8</th>\n      <td>M4T</td>\n      <td>Central Toronto</td>\n      <td>Moore Park, Summerhill East</td>\n      <td>43.689574</td>\n      <td>-79.383160</td>\n    </tr>\n    <tr>\n      <th>9</th>\n      <td>M4V</td>\n      <td>Central Toronto</td>\n      <td>Deer Park, Forest Hill SE, Rathnelly, South Hi...</td>\n      <td>43.686412</td>\n      <td>-79.400049</td>\n    </tr>\n    <tr>\n      <th>10</th>\n      <td>M4W</td>\n      <td>Downtown Toronto</td>\n      <td>Rosedale</td>\n      <td>43.679563</td>\n      <td>-79.377529</td>\n    </tr>\n  </tbody>\n</table>\n</div>", 
                        "text/plain": "   PostalCode           Borough  \\\n0         M4E      East Toronto   \n1         M4K      East Toronto   \n2         M4L      East Toronto   \n3         M4M      East Toronto   \n4         M4N   Central Toronto   \n5         M4P   Central Toronto   \n6         M4R   Central Toronto   \n7         M4S   Central Toronto   \n8         M4T   Central Toronto   \n9         M4V   Central Toronto   \n10        M4W  Downtown Toronto   \n\n                                         Neighborhood   Latitude  Longitude  \n0                                         The Beaches  43.676357 -79.293031  \n1                        The Danforth West, Riverdale  43.679557 -79.352188  \n2                      The Beaches West, India Bazaar  43.668999 -79.315572  \n3                                     Studio District  43.659526 -79.340923  \n4                                       Lawrence Park  43.728020 -79.388790  \n5                                    Davisville North  43.712751 -79.390197  \n6                                  North Toronto West  43.715383 -79.405678  \n7                                          Davisville  43.704324 -79.388790  \n8                         Moore Park, Summerhill East  43.689574 -79.383160  \n9   Deer Park, Forest Hill SE, Rathnelly, South Hi...  43.686412 -79.400049  \n10                                           Rosedale  43.679563 -79.377529  "
                    }, 
                    "output_type": "execute_result"
                }
            ], 
            "source": "toront_data = cdftor_data[cdftor_data['Borough'].str.contains('Toronto', regex=False)].reset_index(drop=True)\ntoront_data.head(11)"
        }, 
        {
            "source": "### Thank you for reveiwing the first part", 
            "cell_type": "markdown", 
            "metadata": {}
        }, 
        {
            "execution_count": null, 
            "cell_type": "code", 
            "metadata": {}, 
            "outputs": [], 
            "source": ""
        }
    ], 
    "metadata": {
        "kernelspec": {
            "display_name": "Python 3.5", 
            "name": "python3", 
            "language": "python"
        }, 
        "language_info": {
            "mimetype": "text/x-python", 
            "nbconvert_exporter": "python", 
            "version": "3.5.5", 
            "name": "python", 
            "file_extension": ".py", 
            "pygments_lexer": "ipython3", 
            "codemirror_mode": {
                "version": 3, 
                "name": "ipython"
            }
        }
    }, 
    "nbformat": 4
}